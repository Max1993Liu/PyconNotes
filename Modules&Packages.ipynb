{
 "cells": [
  {
   "cell_type": "markdown",
   "metadata": {},
   "source": [
    "- Global variables bind inside the same module\n",
    "ex.\n",
    "\n",
    "In file `spam.py`:\n",
    "```python\n",
    "x = 42\n",
    "\n",
    "def blah():\n",
    "\tprint(x)\n",
    "```   \n",
    "\n",
    "In file `egg.py`:\n",
    "```python\n",
    "from spam import blah\n",
    "\n",
    "x = 10\n",
    "\n",
    "blah() #10\n",
    "\n",
    "blash.__globals__['x'] #42\n",
    "```\n"
   ]
  },
  {
   "cell_type": "markdown",
   "metadata": {},
   "source": [
    "- When a module is imported, __all of the statements in the module execute__ one after another until the end of file is reached.  \n",
    "\n",
    "\n",
    "\n",
    "- import always executes the __entire__file\n",
    "\n",
    "\n"
   ]
  },
  {
   "cell_type": "markdown",
   "metadata": {},
   "source": [
    "- modules only load once, then it's cached. You can check by:\n",
    "```python\n",
    "import sys\n",
    "'math' in sys.modules # whether math is loaded\n",
    "```"
   ]
  },
  {
   "cell_type": "code",
   "execution_count": 14,
   "metadata": {},
   "outputs": [
    {
     "name": "stdout",
     "output_type": "stream",
     "text": [
      "True\n"
     ]
    }
   ],
   "source": [
    "import sys\n",
    "import math\n",
    "\n",
    "print('math' in sys.modules)"
   ]
  },
  {
   "cell_type": "markdown",
   "metadata": {},
   "source": [
    "- So how can we reload a module\n",
    "> Deleting it from sys.modules? Will that do the trick?"
   ]
  },
  {
   "cell_type": "code",
   "execution_count": 15,
   "metadata": {},
   "outputs": [
    {
     "name": "stdout",
     "output_type": "stream",
     "text": [
      "False\n"
     ]
    },
    {
     "data": {
      "text/plain": [
       "0.9092974268256817"
      ]
     },
     "execution_count": 15,
     "metadata": {},
     "output_type": "execute_result"
    }
   ],
   "source": [
    "del sys.modules['math'] \n",
    "print('math' in sys.modules)\n",
    "math.sin(2)"
   ]
  },
  {
   "cell_type": "markdown",
   "metadata": {},
   "source": [
    "- Nope, we need another library importlib"
   ]
  },
  {
   "cell_type": "code",
   "execution_count": 17,
   "metadata": {},
   "outputs": [
    {
     "data": {
      "text/plain": [
       "<module 'math' from '/home/maxliu/anaconda3/lib/python3.6/lib-dynload/math.cpython-36m-x86_64-linux-gnu.so'>"
      ]
     },
     "execution_count": 17,
     "metadata": {},
     "output_type": "execute_result"
    }
   ],
   "source": [
    "import importlib\n",
    "import math \n",
    "\n",
    "importlib.reload(math)"
   ]
  },
  {
   "cell_type": "markdown",
   "metadata": {},
   "source": [
    "- For large collections of code, it is usually desirable to organize modules into a hierarchy:\n",
    "\n",
    "```\n",
    "spam/\n",
    "    foo.py\n",
    "    bar/\n",
    "        grok.py\n",
    "```\n",
    "\n",
    "- To do it, you just add \\__init\\__.py files\n",
    "\n",
    "```\n",
    "spam/\n",
    "    __init__.py\n",
    "    foo.py\n",
    "    bar/\n",
    "        __init__.py\n",
    "        grok.py\n",
    "```\n",
    "\n",
    "- Now you can use multiple level import ex. `import spam.foo`"
   ]
  },
  {
   "cell_type": "markdown",
   "metadata": {},
   "source": [
    "- Don't use implicit relative imports in packages:\n",
    "\n",
    "```python\n",
    "spam/\n",
    "    __init__.py\n",
    "    foo.py     # has a class named Foo\n",
    "    bar.py     # has a class named Bar\n",
    "\n",
    "# bar.py\n",
    "import foo  # Relative import of foo, works only in python2\n",
    "\n",
    "# right way to do it:\n",
    "from . import foo  # Import from same level\n",
    "from .. import foo # Loads ../foo.py\n",
    "from ..grok import foo # Loads ../grok/foo.py\n",
    "```\n",
    "\n",
    "\n"
   ]
  },
  {
   "cell_type": "markdown",
   "metadata": {},
   "source": [
    "- What is \\__init\\__.py file??\n",
    "> They should mainly be used to stitch together multiple source files into a \"unified\" top-level import.\n",
    "\n",
    "```python\n",
    "# in __init__.py\n",
    "from .foo import Foo\n",
    "from .bar import Bar\n",
    "```  \n",
    "\n",
    "- Now users see a single unified top-level package\n",
    "\n",
    "```python\n",
    "import spam\n",
    "\n",
    "f = spam.Foo()\n",
    "b = spam.Bar()\n",
    "```"
   ]
  },
  {
   "cell_type": "markdown",
   "metadata": {},
   "source": [
    "#### Controlling Exports\n",
    "- each submodule should define \\__all\\__\n",
    "- controls behaviour of `from module import *`\n",
    "\n",
    "```python\n",
    "# foo.py\n",
    "__all__ = ['Foo']\n",
    "\n",
    "#bar.py\n",
    "__all__ = ['Bar']\n",
    "\n",
    "# This allows easy combination in __init__.py\n",
    "#__init__.py\n",
    "from .foo import *\n",
    "from .bar import *\n",
    "\n",
    "__all__ = (foo.__all__ + bar.__all__)\n",
    "```"
   ]
  },
  {
   "cell_type": "code",
   "execution_count": null,
   "metadata": {
    "collapsed": true
   },
   "outputs": [],
   "source": [
    "# An export decorator\n",
    "def export(defn):\n",
    "    # register function in the globals() scope\n",
    "    globals()[defn.__name__] = defn\n",
    "    # append it to __all__\n",
    "    __all__.append(defn._name)\n",
    "    return defn\n",
    "\n",
    "#now defining functions to be exported\n",
    "@export\n",
    "def foo():\n",
    "    pass"
   ]
  },
  {
   "cell_type": "markdown",
   "metadata": {},
   "source": [
    "- Hacking \\__path\\__\n",
    "\n",
    "```Python\n",
    "# modeuls has a __path__ attribute\n",
    "import xml\n",
    "xml.__path__  # ['/home/maxliu/anaconda3/lib/python3.6/xml']\n",
    "\n",
    "xml.__path__.append('./') # appending current directory into the path\n",
    "\n",
    "import xml.spams  # now suddenly spams is also part of xml library\n",
    "\n",
    "\n",
    "```\n",
    "\n"
   ]
  },
  {
   "cell_type": "markdown",
   "metadata": {},
   "source": [
    "- A package can \"upgrade\" itself on import \n",
    "\n",
    "```python\n",
    "# xml/__init__.py\n",
    "\n",
    "try:\n",
    "    import _xmlplus\n",
    "    import sys\n",
    "    sys.modules[__name__] = _xmlplus\n",
    "except ImportError:\n",
    "    pass\n",
    "```"
   ]
  },
  {
   "cell_type": "markdown",
   "metadata": {},
   "source": [
    "#### The \"-m\" option\n",
    "\n",
    "- Makes the Python version explicit\n",
    "\n",
    "`python3 -m pip install package`  __vs.__ `pip install package`\n",
    "\n"
   ]
  },
  {
   "cell_type": "markdown",
   "metadata": {},
   "source": [
    "- \\__main\\__.py designates main for a package\n",
    "\n",
    "- Also makes a pacakge directory executable\n",
    "\n",
    "```python\n",
    "spam/\n",
    "    __init__.py\n",
    "    __main__.py\n",
    "    foo.py\n",
    "    bar.py\n",
    "    \n",
    "python3 -m spam  # Run package as main\n",
    "```\n",
    "\n",
    "- Some other tools:\n",
    "```bash\n",
    "python3 -m profile some.py\n",
    "python3 -m pdb some.py\n",
    "python3 -m coverage run some.py\n",
    "python3 -m zipfile -c some.zip some/*.py  # kinda cool\n",
    "```\n",
    "\n"
   ]
  },
  {
   "cell_type": "markdown",
   "metadata": {},
   "source": [
    "- Fun fact: you can prepend a zipfile with #! to make it executeable like a script (the zipfile shoudl have \\__main\\__.py of course\n",
    "\n",
    "```bash\n",
    "python3 -m zipfile -c spamzip spam/*.py\n",
    "echo -e '#!/usr/bin/env python3\\n' > spamapp\n",
    "cat spam.zip >> spamapp\n",
    "chmod +x spamapp\n",
    "./spamapp\n",
    "```"
   ]
  },
  {
   "cell_type": "markdown",
   "metadata": {},
   "source": [
    "#### sys.path"
   ]
  },
  {
   "cell_type": "code",
   "execution_count": 39,
   "metadata": {},
   "outputs": [
    {
     "name": "stdout",
     "output_type": "stream",
     "text": [
      "['', '/home/maxliu/anaconda3/lib/python36.zip', '/home/maxliu/anaconda3/lib/python3.6', '/home/maxliu/anaconda3/lib/python3.6/lib-dynload', '/home/maxliu/anaconda3/lib/python3.6/site-packages', '/home/maxliu/anaconda3/lib/python3.6/site-packages/IPython/extensions', '/home/maxliu/.ipython']\n",
      "/home/maxliu/anaconda3\n",
      "/home/maxliu/anaconda3\n"
     ]
    }
   ],
   "source": [
    "import sys\n",
    "\n",
    "print(sys.path)\n",
    "\n",
    "# sys.prefix is the base location of python\n",
    "print(sys.prefix)\n",
    "\n",
    "# exec_prefix is the location of compiled binaries(C)\n",
    "print(sys.exec_prefix)"
   ]
  },
  {
   "cell_type": "markdown",
   "metadata": {},
   "source": [
    "#### Python standard libraries usually located at:\n",
    "- sys.prefix + '/lib/python3X.zip\n",
    "- sys.prefix + '/lib/python3.X\n",
    "- sys.prefix + '/lib/python3.X/plat-sysname'\n",
    "- sys.exec_prefix + '/lib/python3.X/lib-dynload"
   ]
  },
  {
   "cell_type": "markdown",
   "metadata": {},
   "source": [
    " #### PYTHONHOME magic\n",
    " \n",
    " ```bash\n",
    " cd /tmp\n",
    " mkdir lib\n",
    " env PYTHONHOME=. python3    # crashes, python can't open from current location\n",
    " \n",
    " cp -R /home/maxliu/anaconda3/lib ./lib # copy libraries into current directory\n",
    " env PYTHONHOME=. python3    # Boom! it works\n",
    " ```\n",
    " \n",
    " This is kinda of how virtualenv works!"
   ]
  },
  {
   "cell_type": "markdown",
   "metadata": {},
   "source": [
    "#### Virtual Environments\n",
    "\n",
    "- makes a python virtual environment\n",
    "\n",
    "```bash\n",
    "python3 -m venv spam\n",
    "\n",
    "# creates the director structure\n",
    "spam/\n",
    "    pyvenv.cfg\n",
    "    bin/\n",
    "        activate\n",
    "        easy_install\n",
    "        pip \n",
    "        python3\n",
    "    inlude/\n",
    "        ...\n",
    "    lib/\n",
    "        python3.6/\n",
    "            site-packages/\n",
    "                ....\n",
    "```\n"
   ]
  },
  {
   "cell_type": "markdown",
   "metadata": {},
   "source": [
    "#### Namespace\n",
    "- Omit \\__init\\__.py and you get a \"namespace\"\n",
    "\n",
    "```python\n",
    "spam/\n",
    "    foo.py\n",
    "    bar.py\n",
    "    \n",
    "import spam\n",
    "spam     # <module 'grok' (namespace)>\n",
    "```\n",
    "\n",
    "- Now if there's two spam directory in different locations, and both locations are on sys.path, then all the files under both spam directories goes into the same package."
   ]
  },
  {
   "cell_type": "markdown",
   "metadata": {
    "collapsed": true
   },
   "source": [
    "#### What is a module\n"
   ]
  },
  {
   "cell_type": "markdown",
   "metadata": {},
   "source": [
    "- In python, module is an object!!"
   ]
  },
  {
   "cell_type": "code",
   "execution_count": 2,
   "metadata": {},
   "outputs": [
    {
     "data": {
      "text/plain": [
       "module"
      ]
     },
     "execution_count": 2,
     "metadata": {},
     "output_type": "execute_result"
    }
   ],
   "source": [
    "import math\n",
    "\n",
    "type(math)"
   ]
  },
  {
   "cell_type": "code",
   "execution_count": 18,
   "metadata": {},
   "outputs": [
    {
     "data": {
      "text/plain": [
       "<module 'spam'>"
      ]
     },
     "execution_count": 18,
     "metadata": {},
     "output_type": "execute_result"
    }
   ],
   "source": [
    "#creating a module object\n",
    "import types\n",
    "\n",
    "mod = types.ModuleType('spam')\n",
    "mod"
   ]
  },
  {
   "cell_type": "code",
   "execution_count": 23,
   "metadata": {},
   "outputs": [
    {
     "data": {
      "text/plain": [
       "{'__doc__': None,\n",
       " '__loader__': None,\n",
       " '__name__': 'spam',\n",
       " '__package__': None,\n",
       " '__spec__': None}"
      ]
     },
     "execution_count": 23,
     "metadata": {},
     "output_type": "execute_result"
    }
   ],
   "source": [
    "# It's just a dictionary\n",
    "mod.__dict__"
   ]
  },
  {
   "cell_type": "code",
   "execution_count": 22,
   "metadata": {},
   "outputs": [
    {
     "ename": "TypeError",
     "evalue": "'mappingproxy' object does not support item assignment",
     "output_type": "error",
     "traceback": [
      "\u001b[0;31m---------------------------------------------------------------------------\u001b[0m",
      "\u001b[0;31mTypeError\u001b[0m                                 Traceback (most recent call last)",
      "\u001b[0;32m<ipython-input-22-57907bc5040a>\u001b[0m in \u001b[0;36m<module>\u001b[0;34m()\u001b[0m\n\u001b[1;32m      3\u001b[0m \u001b[0;34m\u001b[0m\u001b[0m\n\u001b[1;32m      4\u001b[0m \u001b[0mfrozen_dict\u001b[0m \u001b[0;34m=\u001b[0m \u001b[0mtypes\u001b[0m\u001b[0;34m.\u001b[0m\u001b[0mMappingProxyType\u001b[0m\u001b[0;34m(\u001b[0m\u001b[0md\u001b[0m\u001b[0;34m)\u001b[0m\u001b[0;34m\u001b[0m\u001b[0m\n\u001b[0;32m----> 5\u001b[0;31m \u001b[0mfrozen_dict\u001b[0m\u001b[0;34m[\u001b[0m\u001b[0;34m'c'\u001b[0m\u001b[0;34m]\u001b[0m \u001b[0;34m=\u001b[0m \u001b[0;36m3\u001b[0m\u001b[0;34m\u001b[0m\u001b[0m\n\u001b[0m",
      "\u001b[0;31mTypeError\u001b[0m: 'mappingproxy' object does not support item assignment"
     ]
    }
   ],
   "source": [
    "#bonus: using a immutable dictionary\n",
    "d = {'a':1, 'b':2}\n",
    "\n",
    "frozen_dict = types.MappingProxyType(d)\n",
    "frozen_dict['c'] = 3"
   ]
  },
  {
   "cell_type": "code",
   "execution_count": null,
   "metadata": {
    "collapsed": true
   },
   "outputs": [],
   "source": [
    "# a minimal implementation of import\n",
    "import types\n",
    "\n",
    "def import_module(modname):\n",
    "    sourcepath = modname + '.py'\n",
    "    with open(sourcepath, 'r') as f:\n",
    "        sourcecode = f.read()\n",
    "        \n",
    "    mod = types.ModuleType(modname)\n",
    "    mod.__file__ = sourcepath\n",
    "    code = compile(sourcecode, sourcepath, 'exec')\n",
    "    exec(code, mod.__dict__)\n",
    "    return mod"
   ]
  },
  {
   "cell_type": "code",
   "execution_count": 31,
   "metadata": {},
   "outputs": [
    {
     "name": "stdout",
     "output_type": "stream",
     "text": [
      "  1           0 SETUP_LOOP              24 (to 26)\n",
      "              2 LOAD_NAME                0 (range)\n",
      "              4 LOAD_CONST               0 (5)\n",
      "              6 CALL_FUNCTION            1\n",
      "              8 GET_ITER\n",
      "        >>   10 FOR_ITER                12 (to 24)\n",
      "             12 STORE_NAME               1 (i)\n",
      "             14 LOAD_NAME                2 (print)\n",
      "             16 LOAD_NAME                1 (i)\n",
      "             18 CALL_FUNCTION            1\n",
      "             20 POP_TOP\n",
      "             22 JUMP_ABSOLUTE           10\n",
      "        >>   24 POP_BLOCK\n",
      "        >>   26 LOAD_CONST               1 (None)\n",
      "             28 RETURN_VALUE\n"
     ]
    }
   ],
   "source": [
    "# compile() function compiles the python code into low level byte codes\n",
    "code = 'for i in range(5): print(i)'\n",
    "code = compile(code, 'code.py', 'exec')\n",
    "\n",
    "import dis\n",
    "dis.dis(code) # dissemble the code"
   ]
  },
  {
   "cell_type": "markdown",
   "metadata": {},
   "source": [
    "- cyclic imports in package will crash, because the reference to a submodule only get created after the entire submodule imports"
   ]
  },
  {
   "cell_type": "code",
   "execution_count": 5,
   "metadata": {},
   "outputs": [],
   "source": [
    "# custimizing your import function\n",
    "\n",
    "import builtins\n",
    "\n",
    "def my_import(name, *args, builtin_imp=__import__):\n",
    "    print('Importing', name)\n",
    "    mod = builtin_imp(name, *args)\n",
    "    print('Module path:', mod.__file__)\n",
    "    print('Module doc:', mod.__doc__)\n",
    "    return mod\n",
    "    \n",
    "builtins.__import__ = my_import"
   ]
  },
  {
   "cell_type": "code",
   "execution_count": 6,
   "metadata": {},
   "outputs": [
    {
     "name": "stdout",
     "output_type": "stream",
     "text": [
      "Importing session\n",
      "Module path: /home/maxliu/anaconda3/lib/python3.6/site-packages/jupyter_client/session.py\n",
      "Module doc: Session object for building, serializing, sending, and receiving messages.\n",
      "\n",
      "The Session object supports serialization, HMAC signatures,\n",
      "and metadata on messages.\n",
      "\n",
      "Also defined here are utilities for working with Sessions:\n",
      "* A SessionFactory to be used as a base class for configurables that work with\n",
      "Sessions.\n",
      "* A Message object for convenience that allows attribute-access to the msg dict.\n",
      "\n",
      "Importing math\n",
      "Module path: /home/maxliu/anaconda3/lib/python3.6/lib-dynload/math.cpython-36m-x86_64-linux-gnu.so\n",
      "Module doc: This module is always available.  It provides access to the\n",
      "mathematical functions defined by the C standard.\n"
     ]
    }
   ],
   "source": [
    "import math"
   ]
  },
  {
   "cell_type": "markdown",
   "metadata": {},
   "source": [
    "#### Subclass Module"
   ]
  },
  {
   "cell_type": "code",
   "execution_count": 4,
   "metadata": {},
   "outputs": [],
   "source": [
    "import types\n"
   ]
  },
  {
   "cell_type": "code",
   "execution_count": null,
   "metadata": {
    "collapsed": true
   },
   "outputs": [],
   "source": []
  }
 ],
 "metadata": {
  "kernelspec": {
   "display_name": "Python 3",
   "language": "python",
   "name": "python3"
  },
  "language_info": {
   "codemirror_mode": {
    "name": "ipython",
    "version": 3
   },
   "file_extension": ".py",
   "mimetype": "text/x-python",
   "name": "python",
   "nbconvert_exporter": "python",
   "pygments_lexer": "ipython3",
   "version": "3.6.2"
  }
 },
 "nbformat": 4,
 "nbformat_minor": 2
}
